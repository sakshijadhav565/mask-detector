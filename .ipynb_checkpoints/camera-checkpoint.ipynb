{
  "nbformat": 4,
  "nbformat_minor": 0,
  "metadata": {
    "colab": {
      "provenance": []
    },
    "kernelspec": {
      "name": "python3",
      "display_name": "Python 3"
    },
    "language_info": {
      "name": "python"
    }
  },
  "cells": [
    {
      "cell_type": "code",
      "execution_count": null,
      "metadata": {
        "id": "qGBdeYT8yt0W"
      },
      "outputs": [],
      "source": [
        "import cv2\n",
        "import numpy as np\n",
        "from tensorflow.keras.models import load_model\n",
        "from tensorflow.keras.preprocessing.image import img_to_array\n",
        "from playsound import playsound\n",
        "import threading"
      ]
    },
    {
      "cell_type": "code",
      "source": [
        "# Load trained model\n",
        "model = load_model(\"best_model.h5\")\n",
        "\n",
        "# Load face detector\n",
        "face_cascade = cv2.CascadeClassifier(cv2.data.haarcascades + 'haarcascade_frontalface_default.xml')\n"
      ],
      "metadata": {
        "id": "dJQiZP6YyyHH"
      },
      "execution_count": null,
      "outputs": []
    },
    {
      "cell_type": "code",
      "source": [
        "# Labels\n",
        "labels = [\"Mask\", \"No Mask\"]\n",
        "\n",
        "# Alert sound path\n",
        "ALERT_SOUND = \"/Users/sakshikiranjadhav/Downloads/notification-alert-2-331726.mp3\""
      ],
      "metadata": {
        "id": "r-12f2Nty0lT"
      },
      "execution_count": null,
      "outputs": []
    },
    {
      "cell_type": "code",
      "source": [
        "\n",
        "# Play sound in a separate thread to avoid blocking\n",
        "def play_alert():\n",
        "    threading.Thread(target=playsound, args=(ALERT_SOUND,), daemon=True).start()\n",
        "\n",
        "# Start video\n",
        "cap = cv2.VideoCapture(0)\n",
        "\n",
        "while True:\n",
        "    ret, frame = cap.read()\n",
        "    if not ret:\n",
        "        break\n",
        "\n",
        "    gray = cv2.cvtColor(frame, cv2.COLOR_BGR2GRAY)\n",
        "    faces = face_cascade.detectMultiScale(gray, 1.1, 4)\n",
        "\n",
        "    for (x, y, w, h) in faces:\n",
        "        face = frame[y:y+h, x:x+w]\n",
        "        face_resized = cv2.resize(face, (224, 224))\n",
        "        face_array = img_to_array(face_resized) / 255.0\n",
        "        face_array = np.expand_dims(face_array, axis=0)\n",
        "\n",
        "        pred = model.predict(face_array)[0]\n",
        "        class_index = np.argmax(pred)\n",
        "        label = labels[class_index]\n",
        "        color = (0, 255, 0) if label == \"Mask\" else (0, 0, 255)\n",
        "\n",
        "        # Play sound alert for \"No Mask\"\n",
        "        if label == \"No Mask\":\n",
        "            play_alert()\n",
        "\n",
        "        cv2.putText(frame, label, (x, y - 10),\n",
        "                    cv2.FONT_HERSHEY_SIMPLEX, 0.8, color, 2)\n",
        "        cv2.rectangle(frame, (x, y), (x + w, y + h), color, 2)\n",
        "\n",
        "    cv2.imshow(\"Face Mask Detector\", frame)\n",
        "\n",
        "    if cv2.waitKey(1) & 0xFF == ord('q'):\n",
        "        break\n",
        "\n",
        "cap.release()\n",
        "cv2.destroyAllWindows()\n"
      ],
      "metadata": {
        "id": "mnD-M2Lhy7Bp"
      },
      "execution_count": null,
      "outputs": []
    },
    {
      "cell_type": "code",
      "source": [],
      "metadata": {
        "id": "EhTPYKU7y7qJ"
      },
      "execution_count": null,
      "outputs": []
    }
  ]
}